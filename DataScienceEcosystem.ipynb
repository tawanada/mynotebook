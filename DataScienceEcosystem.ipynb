{
 "cells": [
  {
   "cell_type": "code",
   "execution_count": 1,
   "id": "668852ba",
   "metadata": {},
   "outputs": [],
   "source": [
    "#Data Science Tools and Ecosystem Data Science Tools and Ecosystem"
   ]
  },
  {
   "cell_type": "code",
   "execution_count": 14,
   "id": "24d2d92b",
   "metadata": {},
   "outputs": [
    {
     "ename": "SyntaxError",
     "evalue": "invalid syntax (1472908442.py, line 1)",
     "output_type": "error",
     "traceback": [
      "\u001b[1;36m  Cell \u001b[1;32mIn[14], line 1\u001b[1;36m\u001b[0m\n\u001b[1;33m    In this notebook, you will find a comprehensive overview of the fundamental concepts, tools, and ecosystem of data science.\u001b[0m\n\u001b[1;37m       ^\u001b[0m\n\u001b[1;31mSyntaxError\u001b[0m\u001b[1;31m:\u001b[0m invalid syntax\n"
     ]
    }
   ],
   "source": [
    "In this notebook, you will find a comprehensive overview of the fundamental concepts, tools, and ecosystem of data science.\n"
   ]
  },
  {
   "cell_type": "code",
   "execution_count": null,
   "id": "de910aa5",
   "metadata": {},
   "outputs": [],
   "source": [
    "Some of the popular languages that Data Scientists use are:\n",
    "    1.Python\n",
    "    2.R programming\n",
    "    3.SQL"
   ]
  },
  {
   "cell_type": "code",
   "execution_count": 10,
   "id": "4c3b6cf0",
   "metadata": {},
   "outputs": [
    {
     "ename": "SyntaxError",
     "evalue": "invalid syntax (2280027362.py, line 2)",
     "output_type": "error",
     "traceback": [
      "\u001b[1;36m  Cell \u001b[1;32mIn[10], line 2\u001b[1;36m\u001b[0m\n\u001b[1;33m    |-----------------------|\u001b[0m\n\u001b[1;37m    ^\u001b[0m\n\u001b[1;31mSyntaxError\u001b[0m\u001b[1;31m:\u001b[0m invalid syntax\n"
     ]
    }
   ],
   "source": [
    "#| Data Science Tools |\n",
    "|-----------------------|\n",
    "| Jupyter Notebook      |\n",
    "| RStudio                |\n",
    "| Spyder                 |              "
   ]
  },
  {
   "cell_type": "code",
   "execution_count": 11,
   "id": "e7fc8467",
   "metadata": {},
   "outputs": [
    {
     "name": "stdout",
     "output_type": "stream",
     "text": [
      "8\n"
     ]
    }
   ],
   "source": [
    "#Below are a few examples of evaluating arithmetic expressions in Python\n",
    "\n",
    "x = 5\n",
    "y = 3\n",
    "z = x + y\n",
    "print(z)"
   ]
  },
  {
   "cell_type": "code",
   "execution_count": 12,
   "id": "1c63d820",
   "metadata": {},
   "outputs": [
    {
     "data": {
      "text/plain": [
       "17"
      ]
     },
     "execution_count": 12,
     "metadata": {},
     "output_type": "execute_result"
    }
   ],
   "source": [
    "(3*4)+5       #This a simple arithmetic expression to mutiply then add integer"
   ]
  },
  {
   "cell_type": "code",
   "execution_count": 13,
   "id": "441eedef",
   "metadata": {},
   "outputs": [
    {
     "name": "stdout",
     "output_type": "stream",
     "text": [
      "200 minutes is equal to 3.3333333333333335 hours\n"
     ]
    }
   ],
   "source": [
    "minutes = 200\n",
    "hours = minutes / 60\n",
    "print(\"200 minutes is equal to\", hours, \"hours\") #This will convert 200 minutes to hours by diving by 60"
   ]
  },
  {
   "cell_type": "code",
   "execution_count": null,
   "id": "95feac04",
   "metadata": {},
   "outputs": [],
   "source": [
    "#Objectives\n",
    "Some of the popular languages that Data Scientists use are:\n",
    "    1.Python\n",
    "    2.R programming\n",
    "    3.SQL"
   ]
  },
  {
   "cell_type": "code",
   "execution_count": null,
   "id": "c5c19dea",
   "metadata": {},
   "outputs": [],
   "source": [
    "Author:Tawanda Mbavha"
   ]
  }
 ],
 "metadata": {
  "kernelspec": {
   "display_name": "Python 3 (ipykernel)",
   "language": "python",
   "name": "python3"
  },
  "language_info": {
   "codemirror_mode": {
    "name": "ipython",
    "version": 3
   },
   "file_extension": ".py",
   "mimetype": "text/x-python",
   "name": "python",
   "nbconvert_exporter": "python",
   "pygments_lexer": "ipython3",
   "version": "3.10.9"
  }
 },
 "nbformat": 4,
 "nbformat_minor": 5
}
